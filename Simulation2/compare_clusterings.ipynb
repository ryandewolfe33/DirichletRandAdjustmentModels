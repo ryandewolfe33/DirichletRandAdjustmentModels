{
 "cells": [
  {
   "cell_type": "code",
   "execution_count": 2,
   "metadata": {},
   "outputs": [],
   "source": [
    "using FuzzyClusteringSimilarity\n",
    "using NPZ"
   ]
  },
  {
   "cell_type": "code",
   "execution_count": 6,
   "metadata": {},
   "outputs": [
    {
     "data": {
      "text/plain": [
       "1797×10×400 Array{Float64, 3}:\n",
       "[:, :, 1] =\n",
       " 1.45695e-46  4.02134e-44  2.70636e-51  …  7.04443e-55  1.07246e-42\n",
       " 7.95737e-51  5.62207e-64  2.28364e-57     5.30467e-58  6.30126e-62\n",
       " 1.0          6.5319e-17   2.72075e-26     8.63675e-16  3.24065e-28\n",
       " 2.18198e-29  1.0          1.01574e-47     7.04819e-44  9.07208e-46\n",
       " 4.38908e-40  2.18645e-46  1.0             2.51641e-40  6.13939e-31\n",
       " 1.32949e-23  1.0          2.56701e-41  …  1.81412e-39  5.21362e-38\n",
       " 2.39268e-34  3.83586e-39  1.32327e-24     2.21442e-39  1.0\n",
       " 2.05889e-46  9.74743e-55  3.95698e-51     1.0          1.95442e-57\n",
       " 1.0          5.84657e-32  5.64178e-48     9.45805e-43  9.83072e-48\n",
       " 2.24132e-11  1.0          7.62372e-30     8.11571e-29  5.1939e-26\n",
       " ⋮                                      ⋱               \n",
       " 5.10978e-43  5.15487e-49  1.0             6.38051e-43  2.06774e-33\n",
       " 1.0          2.31987e-26  2.7813e-32      6.30649e-27  1.04345e-33\n",
       " 0.0902963    3.77826e-20  6.01627e-22  …  1.17478e-14  5.13414e-25\n",
       " 1.15068e-56  9.60447e-63  1.0             6.92521e-56  2.01579e-48\n",
       " 7.054e-16    1.0          6.33856e-33     8.67307e-32  4.50708e-29\n",
       " 1.92912e-40  4.96556e-39  1.93672e-44     7.63403e-49  1.9523e-34\n",
       " 1.0          3.00755e-28  2.79957e-35     1.89112e-29  1.33572e-36\n",
       " 8.23127e-13  1.0          3.54834e-31  …  4.87853e-30  2.07931e-27\n",
       " 1.0          1.30019e-33  9.93331e-49     3.84489e-43  1.02115e-48\n",
       "\n",
       "[:, :, 2] =\n",
       " 1.0          1.08452e-49  2.93872e-40  …  8.60956e-47  2.5877e-44\n",
       " 9.16281e-61  8.05987e-48  6.13064e-55     6.43231e-49  1.0\n",
       " 1.44468e-28  5.16109e-15  1.75413e-15     5.00614e-24  8.54217e-12\n",
       " 2.69032e-39  2.62135e-40  1.0             1.5392e-43   2.42269e-36\n",
       " 2.42727e-42  4.49185e-35  2.54094e-42     1.0          8.16357e-28\n",
       " 4.21831e-31  4.94817e-36  1.0          …  1.06039e-37  1.36546e-30\n",
       " 1.18986e-36  1.62172e-39  1.99359e-40     3.49445e-27  6.21856e-31\n",
       " 1.58706e-43  1.0          2.89827e-36     5.61852e-33  3.4473e-25\n",
       " 3.28497e-45  7.29442e-39  5.14946e-29     1.32846e-43  1.228e-31\n",
       " 8.95263e-21  3.37893e-26  1.0             2.99653e-27  1.11097e-19\n",
       " ⋮                                      ⋱               \n",
       " 1.73172e-44  1.74776e-37  1.0267e-44      1.0          4.36476e-31\n",
       " 5.35413e-35  3.19917e-24  3.61644e-24     1.46234e-29  1.07241e-12\n",
       " 9.43089e-28  1.22989e-12  2.24446e-18  …  5.17436e-20  0.86148\n",
       " 2.53362e-57  3.23412e-49  3.19314e-57     1.0          2.31672e-43\n",
       " 1.33633e-22  5.91892e-29  1.0             4.68099e-30  4.95307e-23\n",
       " 1.0          4.07212e-44  1.27739e-35     1.51117e-40  2.97942e-38\n",
       " 2.49167e-37  1.19898e-26  6.75483e-26     2.66263e-32  2.50032e-16\n",
       " 6.44074e-22  2.50093e-27  1.0          …  1.83293e-28  5.72935e-21\n",
       " 2.67241e-46  2.91959e-39  1.5172e-30      2.57709e-44  3.99706e-32\n",
       "\n",
       "[:, :, 3] =\n",
       " 3.2534e-33   3.18213e-31  1.0          …  4.51386e-39  1.08979e-45\n",
       " 3.94451e-50  9.93477e-45  1.37467e-55     3.48685e-39  1.04608e-43\n",
       " 7.53032e-17  2.22416e-17  2.74443e-26     1.0          7.61635e-14\n",
       " 1.17239e-18  1.93612e-30  6.5372e-37      1.62899e-25  7.69001e-38\n",
       " 3.93279e-38  2.27564e-32  6.13185e-39     1.25969e-33  2.86885e-32\n",
       " 1.0          8.8366e-26   1.46394e-33  …  7.69184e-25  4.33272e-38\n",
       " 3.89954e-31  8.43027e-23  2.15033e-29     7.82439e-29  4.99921e-32\n",
       " 1.38554e-34  2.88455e-33  4.88679e-40     2.19169e-26  1.0\n",
       " 4.1166e-29   1.769e-30    2.0004e-41      1.0          1.33919e-35\n",
       " 1.0          2.64289e-20  6.68593e-31     1.96457e-21  6.98152e-36\n",
       " ⋮                                      ⋱               \n",
       " 2.44222e-40  8.71041e-35  6.55338e-41     4.41413e-36  1.75783e-34\n",
       " 2.47365e-23  6.04199e-21  2.89742e-32     1.0          2.26122e-22\n",
       " 6.80215e-18  3.02029e-15  1.53868e-25  …  0.177705     1.15578e-11\n",
       " 6.501e-52    1.30079e-46  1.07426e-52     1.69527e-47  2.9613e-45\n",
       " 1.0          7.76466e-39  2.1983e-47      5.27914e-40  3.21061e-53\n",
       " 5.61222e-29  8.66886e-25  1.0             5.99322e-34  1.43225e-40\n",
       " 3.78548e-25  2.77625e-23  2.07602e-34     1.0          1.32864e-24\n",
       " 1.0          9.27604e-23  6.97962e-33  …  1.44734e-23  7.48141e-38\n",
       " 1.647e-30    1.21106e-31  1.96573e-42     1.0          5.68342e-36\n",
       "\n",
       ";;; … \n",
       "\n",
       "[:, :, 398] =\n",
       " 0.0370289  0.0775611   0.593895    …  0.025716    0.0307229   0.0542799\n",
       " 0.375665   0.068212    0.0367652      0.0823688   0.0773343   0.0540992\n",
       " 0.164445   0.0732372   0.0406838      0.0966594   0.0541507   0.0849941\n",
       " 0.0793389  0.0978758   0.0565731      0.0531656   0.0429788   0.285574\n",
       " 0.0781241  0.054405    0.0388979      0.0608734   0.468796    0.0404562\n",
       " 0.0036414  0.00626143  0.00307327  …  0.00224795  0.00200781  0.965309\n",
       " 0.0700847  0.0750609   0.0554949      0.0459688   0.0987233   0.0470865\n",
       " 0.0972545  0.0440048   0.0290069      0.489822    0.057022    0.0440475\n",
       " 0.0886532  0.0572423   0.0271077      0.0405859   0.0298669   0.0701662\n",
       " 0.0664185  0.139557    0.0538535      0.0381641   0.0354535   0.346252\n",
       " ⋮                                  ⋱                          \n",
       " 0.0697804  0.0499993   0.0366477      0.0564308   0.511377    0.0374962\n",
       " 0.288111   0.0752899   0.037098       0.0732554   0.0521166   0.0721008\n",
       " 0.399101   0.06095     0.0324339   …  0.0841116   0.0528129   0.0573477\n",
       " 0.0465214  0.0322859   0.0236365      0.0390029   0.681915    0.0246017\n",
       " 0.0519263  0.105113    0.0468822      0.0313178   0.0290002   0.487988\n",
       " 0.0468205  0.102534    0.478972       0.031809    0.0396359   0.0632575\n",
       " 0.25371    0.0767081   0.0379502      0.0745702   0.0519672   0.0759604\n",
       " 0.0628362  0.128248    0.0514431   …  0.0364862   0.0337165   0.384356\n",
       " 0.10724    0.0647565   0.03115        0.0487372   0.0351595   0.0782573\n",
       "\n",
       "[:, :, 399] =\n",
       " 0.0382404  0.599406   0.042499   …  0.0636572  0.0291261  0.0409287\n",
       " 0.439166   0.0334895  0.111828      0.0495495  0.051371   0.0452881\n",
       " 0.14697    0.0392666  0.223761      0.0762362  0.154261   0.0952886\n",
       " 0.0539857  0.039901   0.0835938     0.139739   0.0651826  0.451871\n",
       " 0.0825446  0.0394858  0.0588747     0.042211   0.0395617  0.0369905\n",
       " 0.0540245  0.0471367  0.0831029  …  0.446741   0.0504267  0.132019\n",
       " 0.0751567  0.0582738  0.0624411     0.0523463  0.0385319  0.0411892\n",
       " 0.0999628  0.0297082  0.0776293     0.0436615  0.0859225  0.0488936\n",
       " 0.103809   0.0344919  0.411783      0.0821771  0.0762494  0.0894984\n",
       " 0.0587218  0.0492942  0.0921628     0.438125   0.0475219  0.0985841\n",
       " ⋮                                ⋱                        \n",
       " 0.0730229  0.0369515  0.0531894     0.0388474  0.0365382  0.0341514\n",
       " 0.210948   0.0325145  0.344152      0.061245   0.0678626  0.0609683\n",
       " 0.333697   0.0332238  0.190977   …  0.0571424  0.0744003  0.0583722\n",
       " 0.0474113  0.0231887  0.0342333     0.0247304  0.02387    0.0219797\n",
       " 0.0258294  0.0240669  0.0389617     0.743502   0.0223217  0.0501869\n",
       " 0.0480455  0.496861   0.0523651     0.0737408  0.0346539  0.0473252\n",
       " 0.180095   0.0314922  0.384597      0.0606741  0.0690756  0.0617684\n",
       " 0.0545162  0.0461971  0.0853651  …  0.474562   0.0450178  0.0960922\n",
       " 0.105069   0.0332742  0.424631      0.0771123  0.0769774  0.0854127\n",
       "\n",
       "[:, :, 400] =\n",
       " 0.0638446  0.0410953  0.59792    …  0.05309    0.0746239  0.0384015\n",
       " 0.0497018  0.0454343  0.0336216     0.0549126  0.0693567  0.437838\n",
       " 0.0763158  0.0953296  0.0393683     0.0470777  0.0725861  0.146901\n",
       " 0.13976    0.450828   0.0400308     0.0342974  0.06391    0.0541254\n",
       " 0.0423503  0.0371231  0.0396202     0.0973232  0.060908   0.0826681\n",
       " 0.445581   0.132096   0.0472773  …  0.037745   0.0837451  0.0541712\n",
       " 0.0524787  0.0413161  0.0584021     0.429637   0.0893136  0.0752712\n",
       " 0.0438112  0.0490451  0.0298365     0.0405521  0.0471845  0.100098\n",
       " 0.0823284  0.0896374  0.0346245     0.0389623  0.0738836  0.103946\n",
       " 0.437189   0.0986655  0.0494138     0.041005   0.107322   0.0588433\n",
       " ⋮                                ⋱                        \n",
       " 0.0389937  0.0342896  0.0370931     0.0905066  0.055365   0.0731741\n",
       " 0.0613552  0.061074   0.03262       0.0425057  0.070426   0.210743\n",
       " 0.0572535  0.0584785  0.0333295  …  0.0457106  0.0668942  0.33303\n",
       " 0.0248781  0.0221165  0.0233295     0.0539524  0.0347531  0.0476115\n",
       " 0.742328   0.0503608  0.0241913     0.0188829  0.0455212  0.0259602\n",
       " 0.0738932  0.0474756  0.495558      0.0736031  0.0998452  0.0481951\n",
       " 0.0607906  0.0618795  0.0315999     0.0403676  0.0674516  0.179999\n",
       " 0.473544   0.0961882  0.0463215  …  0.0381214  0.0972392  0.0546447\n",
       " 0.0772712  0.0855605  0.0334073     0.0379965  0.0704367  0.105212"
      ]
     },
     "metadata": {},
     "output_type": "display_data"
    }
   ],
   "source": [
    "labels = npzread(\"labels.npy\")\n",
    "predictions = npzread(\"predictions.npy\")"
   ]
  },
  {
   "cell_type": "code",
   "execution_count": 22,
   "metadata": {},
   "outputs": [
    {
     "ename": "MethodError",
     "evalue": "MethodError: no method matching mlePrecisionFixedPoint(::Matrix{Bool})\n\nClosest candidates are:\n  mlePrecisionFixedPoint(!Matched::Matrix{<:AbstractFloat}, !Matched::AbstractVector, !Matched::AbstractFloat, !Matched::Int64)\n   @ FuzzyClusteringSimilarity ~/.julia/packages/FuzzyClusteringSimilarity/4P62B/src/Rand/Adjustment/DirichletModel.jl:205\n  mlePrecisionFixedPoint(!Matched::Matrix{<:AbstractFloat}, !Matched::AbstractVector, !Matched::AbstractFloat)\n   @ FuzzyClusteringSimilarity ~/.julia/packages/FuzzyClusteringSimilarity/4P62B/src/Rand/Adjustment/DirichletModel.jl:205\n  mlePrecisionFixedPoint(!Matched::Matrix{<:AbstractFloat}, !Matched::AbstractVector)\n   @ FuzzyClusteringSimilarity ~/.julia/packages/FuzzyClusteringSimilarity/4P62B/src/Rand/Adjustment/DirichletModel.jl:205\n  ...\n",
     "output_type": "error",
     "traceback": [
      "MethodError: no method matching mlePrecisionFixedPoint(::Matrix{Bool})\n",
      "\n",
      "Closest candidates are:\n",
      "  mlePrecisionFixedPoint(!Matched::Matrix{<:AbstractFloat}, !Matched::AbstractVector, !Matched::AbstractFloat, !Matched::Int64)\n",
      "   @ FuzzyClusteringSimilarity ~/.julia/packages/FuzzyClusteringSimilarity/4P62B/src/Rand/Adjustment/DirichletModel.jl:205\n",
      "  mlePrecisionFixedPoint(!Matched::Matrix{<:AbstractFloat}, !Matched::AbstractVector, !Matched::AbstractFloat)\n",
      "   @ FuzzyClusteringSimilarity ~/.julia/packages/FuzzyClusteringSimilarity/4P62B/src/Rand/Adjustment/DirichletModel.jl:205\n",
      "  mlePrecisionFixedPoint(!Matched::Matrix{<:AbstractFloat}, !Matched::AbstractVector)\n",
      "   @ FuzzyClusteringSimilarity ~/.julia/packages/FuzzyClusteringSimilarity/4P62B/src/Rand/Adjustment/DirichletModel.jl:205\n",
      "  ...\n",
      "\n",
      "\n",
      "Stacktrace:\n",
      " [1] fitdist(z::Matrix{Bool}, model::SymmetricDirichlet; minprecision::Float64)\n",
      "   @ FuzzyClusteringSimilarity ~/.julia/packages/FuzzyClusteringSimilarity/4P62B/src/Rand/Adjustment/DirichletModel.jl:142\n",
      " [2] fitdist(z::Matrix{Bool}, model::SymmetricDirichlet)\n",
      "   @ FuzzyClusteringSimilarity ~/.julia/packages/FuzzyClusteringSimilarity/4P62B/src/Rand/Adjustment/DirichletModel.jl:140\n",
      " [3] expectedsimilarity(z1::Matrix{Float64}, z2::Matrix{Bool}, index::NDC, model::SymmetricDirichlet; onesided::Bool, nsamples::Int64)\n",
      "   @ FuzzyClusteringSimilarity ~/.julia/packages/FuzzyClusteringSimilarity/4P62B/src/Rand/Adjustment/DirichletModel.jl:15\n",
      " [4] adjustedsimilarity(z1::Matrix{Float64}, z2::Matrix{Bool}, index::NDC, model::SymmetricDirichlet; onesided::Bool)\n",
      "   @ FuzzyClusteringSimilarity ~/.julia/packages/FuzzyClusteringSimilarity/4P62B/src/FuzzyClusteringSimilarity.jl:13\n",
      " [5] adjustedsimilarity(z1::Matrix{Float64}, z2::Matrix{Bool}, index::NDC, model::SymmetricDirichlet)\n",
      "   @ FuzzyClusteringSimilarity ~/.julia/packages/FuzzyClusteringSimilarity/4P62B/src/FuzzyClusteringSimilarity.jl:10\n",
      " [6] top-level scope\n",
      "   @ ~/Research/Julia/DirichletRandAdjustmentModels/Simulation2/compare_clusterings.ipynb:8"
     ]
    }
   ],
   "source": [
    "perm = Array{Float64, 1}(undef, size(predictions)[1])\n",
    "sym = Array{Float64, 1}(undef, size(predictions)[1])\n",
    "fit = Array{Float64, 1}(undef, size(predictions)[1])\n",
    "flat = Array{Float64, 1}(undef, size(predictions)[1])\n",
    "\n",
    "for i in 1:size(predictions)[1]\n",
    "    perm[i] = adjustedsimilarity(predictions[:, :, i], labels, NDC(), Permutation())\n",
    "    sym[i] = adjustedsimilarity(predictions[:, :, i], labels, NDC(), SymmetricDirichlet())\n",
    "    fit[i] = adjustedsimilarity(predictions[:, :, i], labels, NDC(), FitDirichlet())\n",
    "    flat[i] = adjustedsimilarity(predictions[:, :, i], labels, NDC(), FlatDirichlet())\n",
    "end"
   ]
  },
  {
   "cell_type": "code",
   "execution_count": 8,
   "metadata": {},
   "outputs": [
    {
     "data": {
      "text/plain": [
       "1797×10 Matrix{Float64}:\n",
       " 1.45695e-46  4.02134e-44  2.70636e-51  …  7.04443e-55  1.07246e-42\n",
       " 7.95737e-51  5.62207e-64  2.28364e-57     5.30467e-58  6.30126e-62\n",
       " 1.0          6.5319e-17   2.72075e-26     8.63675e-16  3.24065e-28\n",
       " 2.18198e-29  1.0          1.01574e-47     7.04819e-44  9.07208e-46\n",
       " 4.38908e-40  2.18645e-46  1.0             2.51641e-40  6.13939e-31\n",
       " 1.32949e-23  1.0          2.56701e-41  …  1.81412e-39  5.21362e-38\n",
       " 2.39268e-34  3.83586e-39  1.32327e-24     2.21442e-39  1.0\n",
       " 2.05889e-46  9.74743e-55  3.95698e-51     1.0          1.95442e-57\n",
       " 1.0          5.84657e-32  5.64178e-48     9.45805e-43  9.83072e-48\n",
       " 2.24132e-11  1.0          7.62372e-30     8.11571e-29  5.1939e-26\n",
       " ⋮                                      ⋱               \n",
       " 5.10978e-43  5.15487e-49  1.0             6.38051e-43  2.06774e-33\n",
       " 1.0          2.31987e-26  2.7813e-32      6.30649e-27  1.04345e-33\n",
       " 0.0902963    3.77826e-20  6.01627e-22  …  1.17478e-14  5.13414e-25\n",
       " 1.15068e-56  9.60447e-63  1.0             6.92521e-56  2.01579e-48\n",
       " 7.054e-16    1.0          6.33856e-33     8.67307e-32  4.50708e-29\n",
       " 1.92912e-40  4.96556e-39  1.93672e-44     7.63403e-49  1.9523e-34\n",
       " 1.0          3.00755e-28  2.79957e-35     1.89112e-29  1.33572e-36\n",
       " 8.23127e-13  1.0          3.54834e-31  …  4.87853e-30  2.07931e-27\n",
       " 1.0          1.30019e-33  9.93331e-49     3.84489e-43  1.02115e-48"
      ]
     },
     "metadata": {},
     "output_type": "display_data"
    }
   ],
   "source": [
    "predictions[:, :, 1]"
   ]
  },
  {
   "cell_type": "code",
   "execution_count": 11,
   "metadata": {},
   "outputs": [
    {
     "data": {
      "text/plain": [
       "(1797, 10, 400)"
      ]
     },
     "metadata": {},
     "output_type": "display_data"
    }
   ],
   "source": [
    "size(predictions)"
   ]
  },
  {
   "cell_type": "code",
   "execution_count": null,
   "metadata": {},
   "outputs": [],
   "source": []
  }
 ],
 "metadata": {
  "kernelspec": {
   "display_name": "Julia 1.10.4",
   "language": "julia",
   "name": "julia-1.10"
  },
  "language_info": {
   "file_extension": ".jl",
   "mimetype": "application/julia",
   "name": "julia",
   "version": "1.10.4"
  }
 },
 "nbformat": 4,
 "nbformat_minor": 2
}
