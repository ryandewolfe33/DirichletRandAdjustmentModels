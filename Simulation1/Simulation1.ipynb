{
 "cells": [
  {
   "cell_type": "code",
   "execution_count": 1,
   "metadata": {},
   "outputs": [],
   "source": [
    "using FuzzyClusteringSimilarity\n",
    "using Distributions\n",
    "using DelimitedFiles"
   ]
  },
  {
   "cell_type": "markdown",
   "metadata": {},
   "source": [
    "## Define the clusterings"
   ]
  },
  {
   "cell_type": "code",
   "execution_count": 2,
   "metadata": {},
   "outputs": [
    {
     "data": {
      "text/plain": [
       "5-element Vector{Matrix{Float64}}:\n",
       " [0.98 0.98 … 0.98 0.01; 0.01 0.01 … 0.01 0.01; 0.01 0.01 … 0.01 0.98]\n",
       " [0.98 0.98 … 0.01 0.01; 0.01 0.01 … 0.01 0.01; 0.01 0.01 … 0.98 0.98]\n",
       " [0.34 0.36 … 0.32 0.35; 0.33 0.32 … 0.32 0.4; 0.33 0.32 … 0.36 0.25]\n",
       " [1.0 1.0 … 1.0 0.0; 0.0 0.0 … 0.0 0.0; 0.0 0.0 … 0.0 1.0]\n",
       " [1.0 1.0 … 0.0 0.0; 0.0 0.0 … 0.0 0.0; 0.0 0.0 … 1.0 1.0]"
      ]
     },
     "metadata": {},
     "output_type": "display_data"
    }
   ],
   "source": [
    "unevenLowFuzzy = [[0.98, 0.01, 0.01] [0.98, 0.01, 0.01] [0.98, 0.01, 0.01] [0.98, 0.01, 0.01] [0.98, 0.01, 0.01] [0.98, 0.01, 0.01] [0.01, 0.98, 0.01] [0.98, 0.01, 0.01] [0.01, 0.01, 0.98] ]\n",
    "evenLowFuzzy   = [[0.98, 0.01, 0.01] [0.98, 0.01, 0.01] [0.98, 0.01, 0.01] [0.01, 0.98, 0.01] [0.01, 0.98, 0.01] [0.01, 0.98, 0.01] [0.01, 0.01, 0.98] [0.01, 0.01, 0.98] [0.01, 0.01, 0.98] ]  \n",
    "highFuzzy      = [[0.34, 0.33, 0.33] [0.36, 0.32, 0.32] [0.40, 0.25, 0.35] [0.33, 0.34, 0.33] [0.32, 0.32, 0.36] [0.25, 0.40, 0.35] [0.33, 0.33, 0.34] [0.32, 0.32, 0.36] [0.35, 0.40, 0.25] ]\n",
    "unevenHard     = [[1, 0, 0] [1, 0, 0] [1, 0, 0] [1, 0, 0] [1, 0, 0] [1, 0, 0] [0, 1, 0] [1, 0, 0] [0, 0, 1] ]\n",
    "evenHard       = [[1, 0, 0] [1, 0, 0] [1, 0, 0] [0, 1, 0] [0, 1, 0] [0, 1, 0] [0, 0, 1] [0, 0, 1] [0, 0, 1] ]\n",
    "\n",
    "clusterings = [unevenLowFuzzy, evenLowFuzzy, highFuzzy, unevenHard, evenHard]"
   ]
  },
  {
   "cell_type": "markdown",
   "metadata": {},
   "source": [
    "# Compute and save two sided comparisons"
   ]
  },
  {
   "cell_type": "code",
   "execution_count": 10,
   "metadata": {},
   "outputs": [
    {
     "name": "stdout",
     "output_type": "stream",
     "text": [
      "Permutation Comparisons\n",
      "Fit Comparisons\n",
      "Sym Comparisons\n",
      "Flat Comparisons\n",
      "NDC Comparisons\n"
     ]
    }
   ],
   "source": [
    "println(\"Permutation Comparisons\")\n",
    "ndc_perm_comparison = Matrix{Float64}(undef, 5, 5)\n",
    "for i in 1:length(clusterings), j in 1:length(clusterings)\n",
    "    s = adjustedsimilarity(clusterings[i], clusterings[j], NDC(), Permutation(), onesided=false)\n",
    "    ndc_perm_comparison[i,j] = s\n",
    "    ndc_perm_comparison[j, i] = s\n",
    "end\n",
    "\n",
    "println(\"Fit Comparisons\")\n",
    "ndc_fit_comparison = Matrix{Float64}(undef, 5, 5)\n",
    "for i in 1:length(clusterings), j in 1:length(clusterings)\n",
    "    s = adjustedsimilarity(clusterings[i], clusterings[j], NDC(), FitDirichlet(), onesided=false)\n",
    "    ndc_fit_comparison[i,j] = s\n",
    "end\n",
    "\n",
    "println(\"Sym Comparisons\")\n",
    "ndc_sym_comparison = Matrix{Float64}(undef, 5, 5)\n",
    "for i in 1:length(clusterings), j in 1:length(clusterings)\n",
    "    s = adjustedsimilarity(clusterings[i], clusterings[j], NDC(), SymmetricDirichlet(), onesided=false)\n",
    "    ndc_sym_comparison[i,j] = s\n",
    "end\n",
    "\n",
    "println(\"Flat Comparisons\")\n",
    "ndc_flat_comparison = Matrix{Float64}(undef, 5, 5)\n",
    "for i in 1:length(clusterings), j in 1:length(clusterings)\n",
    "    s = adjustedsimilarity(clusterings[i], clusterings[j], NDC(), FlatDirichlet(), onesided=false)\n",
    "    ndc_flat_comparison[i,j] = s\n",
    "end\n",
    "\n",
    "println(\"NDC Comparisons\")\n",
    "ndc_comparison = Matrix{Float64}(undef, 5, 5)\n",
    "for i in 1:length(clusterings), j in 1:length(clusterings)\n",
    "    s = similarity(clusterings[i], clusterings[j], NDC())\n",
    "    ndc_comparison[i,j] = s\n",
    "end"
   ]
  },
  {
   "cell_type": "code",
   "execution_count": 11,
   "metadata": {},
   "outputs": [],
   "source": [
    "writedlm(\"ndc_permutation_comparison_two_sided.csv\",  ndc_perm_comparison, ',')\n",
    "writedlm(\"ndc_fit_comparison_two_sided.csv\",  ndc_fit_comparison, ',')\n",
    "writedlm(\"ndc_symmetric_comparison_two_sided.csv\",  ndc_sym_comparison, ',')\n",
    "writedlm(\"ndc_flat_comparison_two_sided.csv\",  ndc_flat_comparison, ',')\n",
    "writedlm(\"ndc_comparison.csv\",  ndc_comparison, ',')"
   ]
  },
  {
   "cell_type": "markdown",
   "metadata": {},
   "source": [
    "## Compute and save one side comparisons"
   ]
  },
  {
   "cell_type": "code",
   "execution_count": 5,
   "metadata": {},
   "outputs": [
    {
     "name": "stdout",
     "output_type": "stream",
     "text": [
      "Permutation Comparisons\n"
     ]
    }
   ],
   "source": [
    "println(\"Permutation Comparisons\")\n",
    "ndc_perm_comparison = Matrix{Float64}(undef, 5, 5)\n",
    "for i in 1:length(clusterings), j in 1:length(clusterings)\n",
    "    s = adjustedsimilarity(clusterings[i], clusterings[j], NDC(), Permutation(), onesided=true)\n",
    "    ndc_perm_comparison[i,j] = s\n",
    "end\n",
    "\n",
    "writedlm(\"ndc_permutation_comparison_one_sided.csv\",  ndc_perm_comparison, ',')"
   ]
  },
  {
   "cell_type": "code",
   "execution_count": 6,
   "metadata": {},
   "outputs": [
    {
     "name": "stdout",
     "output_type": "stream",
     "text": [
      "Fit Comparisons\n"
     ]
    }
   ],
   "source": [
    "println(\"Fit Comparisons\")\n",
    "ndc_fit_comparison = Matrix{Float64}(undef, 5, 5)\n",
    "for i in 1:length(clusterings), j in 1:length(clusterings)\n",
    "    s = adjustedsimilarity(clusterings[i], clusterings[j], NDC(), FitDirichlet(), onesided=true)\n",
    "    ndc_fit_comparison[i,j] = s\n",
    "end\n",
    "\n",
    "writedlm(\"ndc_fit_comparison_one_sided.csv\",  ndc_fit_comparison, ',')"
   ]
  },
  {
   "cell_type": "code",
   "execution_count": 7,
   "metadata": {},
   "outputs": [
    {
     "name": "stdout",
     "output_type": "stream",
     "text": [
      "Sym Comparisons\n"
     ]
    }
   ],
   "source": [
    "println(\"Sym Comparisons\")\n",
    "ndc_sym_comparison = Matrix{Float64}(undef, 5, 5)\n",
    "for i in 1:length(clusterings), j in 1:length(clusterings)\n",
    "    s = adjustedsimilarity(clusterings[i], clusterings[j], NDC(), SymmetricDirichlet(), onesided=true)\n",
    "    ndc_sym_comparison[i,j] = s\n",
    "end\n",
    "\n",
    "writedlm(\"ndc_symmetric_comparison_one_sided.csv\",  ndc_sym_comparison, ',')"
   ]
  },
  {
   "cell_type": "code",
   "execution_count": 8,
   "metadata": {},
   "outputs": [
    {
     "name": "stdout",
     "output_type": "stream",
     "text": [
      "Flat Comparisons\n"
     ]
    }
   ],
   "source": [
    "println(\"Flat Comparisons\")\n",
    "ndc_flat_comparison = Matrix{Float64}(undef, 5, 5)\n",
    "for i in 1:length(clusterings), j in 1:length(clusterings)\n",
    "    s = adjustedsimilarity(clusterings[i], clusterings[j], NDC(), FlatDirichlet(), onesided=true)\n",
    "    ndc_flat_comparison[i,j] = s\n",
    "end\n",
    "\n",
    "writedlm(\"ndc_flat_comparison_one_sided.csv\",  ndc_flat_comparison, ',')"
   ]
  },
  {
   "cell_type": "markdown",
   "metadata": {},
   "source": [
    "## Compute and save random samples from models"
   ]
  },
  {
   "cell_type": "code",
   "execution_count": 9,
   "metadata": {},
   "outputs": [],
   "source": []
  }
 ],
 "metadata": {
  "kernelspec": {
   "display_name": "Julia 1.10.4",
   "language": "julia",
   "name": "julia-1.10"
  },
  "language_info": {
   "file_extension": ".jl",
   "mimetype": "application/julia",
   "name": "julia",
   "version": "1.10.4"
  }
 },
 "nbformat": 4,
 "nbformat_minor": 2
}
